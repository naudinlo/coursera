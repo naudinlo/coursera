{
 "cells": [
  {
   "cell_type": "markdown",
   "metadata": {},
   "source": [
    "## Facial keypoints detection\n",
    "\n",
    "In this task you will create facial keypoint detector based on CNN regressor.\n",
    "\n",
    "\n",
    "![title](example.png)"
   ]
  },
  {
   "cell_type": "markdown",
   "metadata": {},
   "source": [
    "### Load and preprocess data"
   ]
  },
  {
   "cell_type": "markdown",
   "metadata": {},
   "source": [
    "Script `get_data.py` unpacks data — images and labelled points. 6000 images are located in `images` folder and keypoint coordinates are in `gt.csv` file. Run the cell below to unpack data."
   ]
  },
  {
   "cell_type": "raw",
   "metadata": {},
   "source": [
    "from get_data import unpack\n",
    "unpack('facial-keypoints-data.zip')"
   ]
  },
  {
   "cell_type": "markdown",
   "metadata": {},
   "source": [
    "Now you have to read `gt.csv` file and images from `images` dir. File `gt.csv` contains header and ground truth points for every image in `images` folder. It has 29 columns. First column is a filename and next 28 columns are `x` and `y` coordinates for 14 facepoints. We will make following preprocessing:\n",
    "1. Scale all images to resolution $100 \\times 100$ pixels.\n",
    "2. Scale all coordinates to range $[-0.5; 0.5]$. To obtain that, divide all x's by width (or number of columns) of image, and divide all y's by height (or number of rows) of image and subtract 0.5 from all values.\n",
    "\n",
    "Function `load_imgs_and_keypoint` should return a tuple of two numpy arrays: `imgs` of shape `(N, 100, 100, 3)`, where `N` is the number of images and `points` of shape `(N, 28)`."
   ]
  },
  {
   "cell_type": "code",
   "execution_count": 36,
   "metadata": {
    "scrolled": true
   },
   "outputs": [
    {
     "data": {
      "text/plain": [
       "'/Users/louisenaudin/PERSO/COURSERA/facial-keypoints'"
      ]
     },
     "execution_count": 36,
     "metadata": {},
     "output_type": "execute_result"
    }
   ],
   "source": [
    "pwd"
   ]
  },
  {
   "cell_type": "code",
   "execution_count": null,
   "metadata": {},
   "outputs": [],
   "source": [
    "### Useful routines for preparing data\n",
    "import numpy as np\n",
    "from numpy import array, zeros\n",
    "import os\n",
    "from os.path import join\n",
    "from skimage.color import gray2rgb\n",
    "from skimage.io import imread\n",
    "from skimage.transform import resize\n",
    "import pandas as pd\n",
    "from pandas import read_csv\n",
    "\n",
    "# def load_imgs_and_keypoints(dirname='facial-keypoints'):\n",
    "#    # points = np.zeros((N, 28))\n",
    "\n",
    "#     points = np.genfromtxt(join('data', 'gt.csv'),delimiter=',')\n",
    "#     points = points[1:, 1:]\n",
    "    \n",
    "#     N = points.shape[0]\n",
    "#     images = np.zeros((N, 100,100,3))\n",
    "    \n",
    "#     folder = join('data', 'images')\n",
    "#     for i, filename in enumerate(os.listdir(folder)):\n",
    "#         img = imread(join(folder, filename))\n",
    "        \n",
    "#         w = img.shape[0]\n",
    "#         h = img.shape[1]\n",
    "        \n",
    "#         img = resize(img, [100, 100])\n",
    "        \n",
    "        \n",
    "#         print(img.shape)\n",
    "#         print(img[0,:])\n",
    "#         print(img[1,:])\n",
    "#        # print(img[:,:])\n",
    "#         img[:] = img[:] / img.shape[0] - 0.5\n",
    "#         img[:, :] = img[:,] / img.shape[1] - 0.5\n",
    "#         print(img)\n",
    "#         images[i] = img\n",
    "        \n",
    "#     return images, points\n",
    "#     # Write your code for loading images and points here\n",
    "#     pass\n",
    "\n",
    "\n",
    "def load_imgs_and_keypoints(dirname='data'):\n",
    "    # Write your code for loading images and points here\n",
    "    imgs = []\n",
    "    heights = []\n",
    "    widths = []\n",
    "    \n",
    "    directory = os.listdir(join(dirname,'images'))\n",
    "    directory.sort()\n",
    "    for img in directory:\n",
    "        img = imread(join(dirname,'images',img))\n",
    "        heights.append(img.shape[0])\n",
    "        widths.append(img.shape[1])\n",
    "        img = resize(img,[100,100])  #in BGR\n",
    "#        RGB_img = cv2.cvtColor(img, cv2.COLOR_BGR2RGB)\n",
    "        RGB_img = gray2rgb(img)\n",
    "        imgs.append(RGB_img)\n",
    "        \n",
    "    ret_imgs = np.stack(imgs)\n",
    "    kp = pd.read_csv(join(dirname,'gt.csv'))\n",
    "    kp = kp.iloc[:,1:]\n",
    "    \n",
    "    for ix in range(kp.shape[1]):\n",
    "        if ix % 2 == 0:\n",
    "            kp.iloc[:,ix] = kp.iloc[:,ix] / widths - 0.5\n",
    "        else:\n",
    "            kp.iloc[:,ix] = kp.iloc[:,ix] / heights - 0.5\n",
    "    \n",
    "    #kp=kp-0.5\n",
    "    ret_kps = kp.values\n",
    "    return ret_imgs,ret_kps\n",
    "\n",
    "\n",
    "\n",
    "imgs, points = load_imgs_and_keypoints()"
   ]
  },
  {
   "cell_type": "code",
   "execution_count": null,
   "metadata": {},
   "outputs": [],
   "source": [
    "# Example of output\n",
    "%matplotlib inline\n",
    "from skimage.io import imshow\n",
    "imshow(imgs[0])\n",
    "points[0]"
   ]
  },
  {
   "cell_type": "markdown",
   "metadata": {},
   "source": [
    "### Visualize data"
   ]
  },
  {
   "cell_type": "markdown",
   "metadata": {},
   "source": [
    "Let's prepare a function to visualize points on image. Such function obtains two arguments: an image and a vector of points' coordinates and draws points on image (just like first image in this notebook)."
   ]
  },
  {
   "cell_type": "code",
   "execution_count": null,
   "metadata": {},
   "outputs": [],
   "source": [
    "import matplotlib.pyplot as plt\n",
    "# Circle may be useful for drawing points on face\n",
    "# See matplotlib documentation for more info\n",
    "from matplotlib.patches import Circle\n",
    "\n",
    "def visualize_points(img, points):\n",
    "    # Write here function which obtains image and normalized\n",
    "    # coordinates and visualizes points on image\n",
    "    fig,ax = plt.subplots()\n",
    "    # Show the image\n",
    "    ax.imshow(img)\n",
    "    \n",
    "    for i in range(len(points)//2):\n",
    "        plt.plot((points[2*i]+0.5)*100, (points[2*i+1]+0.5)*100, 'o', color='red',markersize=4)\n",
    "    \n",
    "visualize_points(imgs[0], points[0])"
   ]
  },
  {
   "cell_type": "markdown",
   "metadata": {},
   "source": [
    "### Train/val split"
   ]
  },
  {
   "cell_type": "markdown",
   "metadata": {},
   "source": [
    "Run the following code to obtain train/validation split for training neural network."
   ]
  },
  {
   "cell_type": "code",
   "execution_count": null,
   "metadata": {},
   "outputs": [],
   "source": [
    "from sklearn.model_selection import train_test_split\n",
    "imgs_train, imgs_val, points_train, points_val = train_test_split(imgs, points, test_size=0.1)"
   ]
  },
  {
   "cell_type": "markdown",
   "metadata": {},
   "source": [
    "### Simple data augmentation"
   ]
  },
  {
   "cell_type": "markdown",
   "metadata": {},
   "source": [
    "For better training we will use simple data augmentation — flipping an image and points. Implement function flip_img which flips an image and its' points. Make sure that points are flipped correctly! For instance, points on right eye now should be points on left eye (i.e. you have to mirror coordinates and swap corresponding points on the left and right sides of the face). VIsualize an example of original and flipped image."
   ]
  },
  {
   "cell_type": "code",
   "execution_count": null,
   "metadata": {},
   "outputs": [],
   "source": [
    "def flip_img(img, points):\n",
    "    # Write your code for flipping here\n",
    "#     imshow(img)\n",
    "#     print(points)\n",
    "#     #points[:] = points[::-1]\n",
    "#     print(points)\n",
    "#     f_points = np.zeros(28)\n",
    "    \n",
    "#     #f_points[:4] = points[5:10]\n",
    "#     #f_points[5:10] = points[:4]\n",
    "#     #f_points[11:] = points[11:][::-1]\n",
    "#     eb_l = points[:4][::-1]\n",
    "#     #print(eb_l)\n",
    "#     eb_r = points[6:12][::-1]\n",
    "#     eye_l = points[9:15][::-1]\n",
    "    \n",
    "#     print(points)\n",
    "#     x = points[::2]\n",
    "#     y = points[1::2]\n",
    "#     print(x)\n",
    "#     print(y)\n",
    "#     fx = x[::-1]\n",
    "#     fy = y[::-1]\n",
    "    \n",
    "#     f = []\n",
    "#     for i in range(len(fx)):\n",
    "#         f.append(fx[i])\n",
    "#         f.append(fy[i])\n",
    "#     print(f)\n",
    "#     return np.fliplr(img), f\n",
    "\n",
    "\n",
    "    f_points = np.copy(points)\n",
    "    \n",
    "    for ix in range(len(f_points)):\n",
    "        if ix % 2 == 0:\n",
    "            f_points[ix] *= -1\n",
    "             \n",
    "    return np.fliplr(img), f_points\n",
    "\n",
    "\n",
    "f_img, f_points = flip_img(imgs[1], points[1])\n",
    "visualize_points(f_img, f_points)"
   ]
  },
  {
   "cell_type": "markdown",
   "metadata": {},
   "source": [
    "Time to augment our training sample. Apply flip to every image in training sample. As a result you should obtain two arrays: `aug_imgs_train` and `aug_points_train` which contain original images and points along with flipped ones."
   ]
  },
  {
   "cell_type": "code",
   "execution_count": null,
   "metadata": {},
   "outputs": [],
   "source": [
    "#  Write your code here\n",
    "aug_imgs_train = []\n",
    "aug_points_train = []\n",
    "for i, img in enumerate(imgs):\n",
    "    f_img, f_points = flip_img(img, points[i])\n",
    "    aug_imgs_train.append(f_img)\n",
    "    aug_points_train.append(f_points)"
   ]
  },
  {
   "cell_type": "code",
   "execution_count": null,
   "metadata": {},
   "outputs": [],
   "source": [
    "visualize_points(aug_imgs_train[2], aug_points_train[2])"
   ]
  },
  {
   "cell_type": "code",
   "execution_count": null,
   "metadata": {},
   "outputs": [],
   "source": [
    "visualize_points(aug_imgs_train[3], aug_points_train[3])"
   ]
  },
  {
   "cell_type": "markdown",
   "metadata": {},
   "source": [
    "### Network architecture and training\n",
    "\n",
    "Now let's define neural network regressor. It will have 28 outputs, 2 numbers per point. The precise architecture is up to you. We recommend to add 2-3 (`Conv2D` + `MaxPooling2D`) pairs, then `Flatten` and 2-3 `Dense` layers. Don't forget about ReLU activations. We also recommend to add `Dropout` to every `Dense` layer (with p from 0.2 to 0.5) to prevent overfitting.\n"
   ]
  },
  {
   "cell_type": "code",
   "execution_count": null,
   "metadata": {},
   "outputs": [],
   "source": [
    "from keras.models import Sequential\n",
    "from keras.layers import (\n",
    "    Conv2D, MaxPooling2D, Flatten,\n",
    "    Dense, Dropout\n",
    ")\n",
    "\n",
    "model = Sequential()\n",
    "model.add(Conv2D(kernel_size = (3,3),  filters=16, padding = \"same\", activation = \"relu\", input_shape=(32, 32, 3)))\n",
    "model.add(LeakyReLU(0.1))\n",
    "model.add(Conv2D(kernel_size = (3,3),  filters=32, padding = \"same\", activation = \"relu\", input_shape=(32, 32, 48)))\n",
    "model.add(LeakyReLU(0.1))\n",
    "model.add(MaxPooling2D(pool_size=(2, 2)))\n",
    "model.add(Dropout(0.25))\n",
    "model.add(Conv2D(kernel_size = (3,3),  filters=32, padding = \"same\", activation = \"relu\", input_shape=(32, 32, 1536)))\n",
    "model.add(LeakyReLU(0.1))\n",
    "model.add(Conv2D(kernel_size = (3,3),  filters=64, padding = \"same\", activation = \"relu\", input_shape=(32, 32, 49152)))\n",
    "model.add(LeakyReLU(0.1))\n",
    "model.add(MaxPooling2D(pool_size=(2, 2)))\n",
    "model.add(Dropout(0.25))\n",
    "model.add(Flatten())\n",
    "model.add(Dense(256))\n",
    "model.add(LeakyReLU(0.1))\n",
    "model.add(Dropout(0.3))\n",
    "model.add(Dense(256))\n",
    "model.add(LeakyReLU(0.1))\n",
    "model.add(Dropout(0.5))\n",
    "model.add(Dense(28))\n",
    "model.add(Activation('softmax'))\n",
    "\n",
    "    \n",
    "# Define here your model"
   ]
  },
  {
   "cell_type": "markdown",
   "metadata": {},
   "source": [
    "Time to train! Since we are training a regressor, make sure that you use mean squared error (mse) as loss. Feel free to experiment with optimization method (SGD, Adam, etc.) and its' parameters."
   ]
  },
  {
   "cell_type": "code",
   "execution_count": null,
   "metadata": {},
   "outputs": [],
   "source": [
    "# ModelCheckpoint can be used for saving model during training.\n",
    "# Saved models are useful for finetuning your model \n",
    "# See keras documentation for more info\n",
    "from keras.callbacks import ModelCheckpoint\n",
    "from keras.optimizers import SGD, Adam\n",
    "\n",
    "INIT_LR = 5e-3  # initial learning rate\n",
    "BATCH_SIZE = 32\n",
    "EPOCHS = 10\n",
    "\n",
    "# Choose optimizer, compile model and run training\n",
    "model.compile(\n",
    "    loss='mean_squared_error',  # we train 10-way classification\n",
    "    optimizer=keras.optimizers.adamax(lr=INIT_LR),  # for SGD\n",
    "    metrics=['accuracy']  # report accuracy during training\n",
    ")\n",
    "\n",
    "# scheduler of learning rate (decay with epochs)\n",
    "def lr_scheduler(epoch):\n",
    "    return INIT_LR * 0.9 ** epoch\n"
   ]
  },
  {
   "cell_type": "code",
   "execution_count": null,
   "metadata": {},
   "outputs": [],
   "source": [
    "# fit model\n",
    "model.fit(\n",
    "    x_train2, y_train2,  # prepared data\n",
    "    batch_size=BATCH_SIZE,\n",
    "    epochs=EPOCHS,\n",
    "    callbacks=[keras.callbacks.LearningRateScheduler(lr_scheduler), \n",
    "               LrHistory(), \n",
    "               keras_utils.TqdmProgressCallback()],\n",
    "    validation_data=(x_test2, y_test2),\n",
    "    shuffle=True,\n",
    "    verbose=0,\n",
    ")"
   ]
  },
  {
   "cell_type": "markdown",
   "metadata": {},
   "source": [
    "### Visualize results"
   ]
  },
  {
   "cell_type": "markdown",
   "metadata": {},
   "source": [
    "Now visualize neural network results on several images from validation sample. Make sure that your network outputs different points for images (i.e. it doesn't output some constant)."
   ]
  },
  {
   "cell_type": "code",
   "execution_count": 20,
   "metadata": {},
   "outputs": [
    {
     "data": {
      "image/png": "[encoded data removed]",
      "text/plain": [
       "<matplotlib.figure.Figure at 0x7fc14779a208>"
      ]
     },
     "metadata": {},
     "output_type": "display_data"
    }
   ],
   "source": [
    "# Example of output"
   ]
  }
 ],
 "metadata": {
  "kernelspec": {
   "display_name": "Python 3",
   "language": "python",
   "name": "python3"
  },
  "language_info": {
   "codemirror_mode": {
    "name": "ipython",
    "version": 3
   },
   "file_extension": ".py",
   "mimetype": "text/x-python",
   "name": "python",
   "nbconvert_exporter": "python",
   "pygments_lexer": "ipython3",
   "version": "3.6.5"
  }
 },
 "nbformat": 4,
 "nbformat_minor": 1
}
